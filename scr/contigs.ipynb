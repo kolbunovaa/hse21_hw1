{
 "cells": [
  {
   "cell_type": "code",
   "execution_count": 18,
   "metadata": {},
   "outputs": [],
   "source": [
    "import re"
   ]
  },
  {
   "cell_type": "code",
   "execution_count": 22,
   "metadata": {},
   "outputs": [
    {
     "name": "stdout",
     "output_type": "stream",
     "text": [
      "N50 179307\n",
      "Всего контигов 617\n",
      "Общая длина контигов 3925656\n",
      "Длина самого длинного контига 179307\n"
     ]
    }
   ],
   "source": [
    "a = open('Poil_contig.fa', 'r')\n",
    "num = 0\n",
    "summ_length = 0\n",
    "all_length = []\n",
    "for i in a.readlines():\n",
    "    if i[0] == '>':\n",
    "        num += 1\n",
    "        b = re.findall(r'[0-9]+', i)\n",
    "        length = int(b[1])\n",
    "        all_length.append(length)\n",
    "        summ_length += length\n",
    "all_length.sort(reverse = True)\n",
    "k = 0\n",
    "for i in all_length:\n",
    "    k += i\n",
    "    if k >= (length/2):\n",
    "        print('N50', k)\n",
    "        break\n",
    "        \n",
    "print('Всего контигов', num)\n",
    "print('Общая длина контигов', summ_length)\n",
    "print('Длина самого длинного контига', all_length[0])\n"
   ]
  },
  {
   "cell_type": "code",
   "execution_count": null,
   "metadata": {},
   "outputs": [],
   "source": []
  },
  {
   "cell_type": "code",
   "execution_count": null,
   "metadata": {},
   "outputs": [],
   "source": []
  },
  {
   "cell_type": "code",
   "execution_count": null,
   "metadata": {},
   "outputs": [],
   "source": []
  },
  {
   "cell_type": "code",
   "execution_count": null,
   "metadata": {},
   "outputs": [],
   "source": []
  }
 ],
 "metadata": {
  "kernelspec": {
   "display_name": "Python 3",
   "language": "python",
   "name": "python3"
  },
  "language_info": {
   "codemirror_mode": {
    "name": "ipython",
    "version": 3
   },
   "file_extension": ".py",
   "mimetype": "text/x-python",
   "name": "python",
   "nbconvert_exporter": "python",
   "pygments_lexer": "ipython3",
   "version": "3.8.5"
  }
 },
 "nbformat": 4,
 "nbformat_minor": 4
}
