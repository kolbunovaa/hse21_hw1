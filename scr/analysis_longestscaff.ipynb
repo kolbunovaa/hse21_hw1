{
 "cells": [
  {
   "cell_type": "code",
   "execution_count": 1,
   "metadata": {},
   "outputs": [],
   "source": [
    "import re"
   ]
  },
  {
   "cell_type": "code",
   "execution_count": 2,
   "metadata": {},
   "outputs": [
    {
     "name": "stdout",
     "output_type": "stream",
     "text": [
      "Количество гэпов в самом длинном скаффолде 67\n",
      "Общая длина гэпов в самом длинном скаффолде 6645\n"
     ]
    }
   ],
   "source": [
    "a = open('BigScaff.fna', 'r')\n",
    "num = re.findall(r'(N+)', a.read())\n",
    "print('Количество гэпов в самом длинном скаффолде', len(num))\n",
    "n = 0\n",
    "for i in num:\n",
    "    n += len(i)    \n",
    "print('Общая длина гэпов в самом длинном скаффолде', n)"
   ]
  },
  {
   "cell_type": "code",
   "execution_count": null,
   "metadata": {},
   "outputs": [],
   "source": []
  }
 ],
 "metadata": {
  "kernelspec": {
   "display_name": "Python 3",
   "language": "python",
   "name": "python3"
  },
  "language_info": {
   "codemirror_mode": {
    "name": "ipython",
    "version": 3
   },
   "file_extension": ".py",
   "mimetype": "text/x-python",
   "name": "python",
   "nbconvert_exporter": "python",
   "pygments_lexer": "ipython3",
   "version": "3.8.5"
  }
 },
 "nbformat": 4,
 "nbformat_minor": 4
}
